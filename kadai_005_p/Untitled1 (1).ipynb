{
  "nbformat": 4,
  "nbformat_minor": 0,
  "metadata": {
    "colab": {
      "provenance": []
    },
    "kernelspec": {
      "name": "python3",
      "display_name": "Python 3"
    },
    "language_info": {
      "name": "python"
    }
  },
  "cells": [
    {
      "cell_type": "code",
      "execution_count": 1,
      "metadata": {
        "colab": {
          "base_uri": "https://localhost:8080/"
        },
        "id": "DbzwMmiE_nj4",
        "outputId": "4b8003ea-693d-4ba6-fa94-2ea54501e648"
      },
      "outputs": [
        {
          "output_type": "stream",
          "name": "stdout",
          "text": [
            "75.0㎠\n"
          ]
        }
      ],
      "source": [
        "'''\n",
        "上辺：10cm\n",
        "下辺：20cm\n",
        "高さ：5cm\n",
        "\n",
        "公式：台形の面積 =（上辺＋下辺）× 高さ ÷ 2\n",
        " '''\n",
        "s =(10+20) * 5 / 2\n",
        "print(str(s) + \"㎠\")"
      ]
    }
  ]
}